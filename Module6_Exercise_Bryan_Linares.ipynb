{
 "cells": [
  {
   "cell_type": "markdown",
   "metadata": {},
   "source": [
    "1. Round 4.5667 to the nearest hundreth using a build-in function, round()."
   ]
  },
  {
   "cell_type": "code",
   "execution_count": 1,
   "metadata": {},
   "outputs": [
    {
     "data": {
      "text/plain": [
       "4.57"
      ]
     },
     "execution_count": 1,
     "metadata": {},
     "output_type": "execute_result"
    }
   ],
   "source": [
    "round(4.5667, 2)"
   ]
  },
  {
   "cell_type": "markdown",
   "metadata": {},
   "source": [
    "2. Convert \"657\" to an integer data type"
   ]
  },
  {
   "cell_type": "code",
   "execution_count": 2,
   "metadata": {},
   "outputs": [
    {
     "name": "stdout",
     "output_type": "stream",
     "text": [
      "657\n"
     ]
    },
    {
     "data": {
      "text/plain": [
       "int"
      ]
     },
     "execution_count": 2,
     "metadata": {},
     "output_type": "execute_result"
    }
   ],
   "source": [
    "bt = int(\"657\")\n",
    "print(bt)\n",
    "type(bt)"
   ]
  },
  {
   "cell_type": "markdown",
   "metadata": {},
   "source": [
    "3.\n",
    "Write a program to get two numbers from a user. Then, create a secret code where a code consists of 6 numbers and each number is randomly generated number between two numbers from a user. "
   ]
  },
  {
   "cell_type": "code",
   "execution_count": 3,
   "metadata": {
    "scrolled": false
   },
   "outputs": [
    {
     "name": "stdout",
     "output_type": "stream",
     "text": [
      "Enter a number: 1\n",
      "Enter another one: 25\n",
      "Here are my magic numbers: 18, 19, 6, 20, 8, 5\n"
     ]
    }
   ],
   "source": [
    "import random as s\n",
    "p1 = int(input(\"Enter a number: \"))\n",
    "p2 = int(input(\"Enter another one: \"))\n",
    "def sec_code(t, u):\n",
    "    e1 = s.randint(t, u)\n",
    "    e2 = s.randint(t, u)\n",
    "    e3 = s.randint(t, u)\n",
    "    e4 = s.randint(t, u)\n",
    "    e5 = s.randint(t, u)\n",
    "    e6 = s.randint(t, u)\n",
    "    print(f\"Here are my magic numbers: {e1}, {e2}, {e3}, {e4}, {e5}, {e6}\")\n",
    "sec_code(p1, p2)"
   ]
  },
  {
   "cell_type": "markdown",
   "metadata": {},
   "source": [
    "4.\n",
    "Write a program to center align below text where number of characters per line is 40:\n",
    "\n",
    "    Hickory, dickory, dock,\n",
    "    The mouse ran up the clock.\n",
    "    The clock struck one,\n",
    "    The mouse ran down,\n",
    "    Hickory, dickory, dock\n",
    "\n",
    "<b>Do not use string's center method! </b>"
   ]
  },
  {
   "cell_type": "code",
   "execution_count": 4,
   "metadata": {},
   "outputs": [
    {
     "name": "stdout",
     "output_type": "stream",
     "text": [
      "        Hickory, dickory, dock,         \n",
      "      The mouse ran up the clock.       \n",
      "         The clock struck one,          \n",
      "          The mouse ran down,           \n",
      "         Hickory, dickory, dock          \n"
     ]
    }
   ],
   "source": [
    "line1 = \"Hickory, dickory, dock,\"\n",
    "line2 = \"The mouse ran up the clock.\"\n",
    "line3 = \"The clock struck one,\"\n",
    "line4 = \"The mouse ran down,\"\n",
    "line5 = \"Hickory, dickory, dock\"\n",
    "def center_this(Line):        # function defined with two argument, which will be the string to be centered\n",
    "    ch = 40 - len(Line)      # Subtract the length of string from the max number of characters for justification\n",
    "    l = ch // 2         # Floor-divide 'ch' by 2 to find number of characters required for left justify\n",
    "    r = ch // 2 + 1     # Floor-divide 'ch' by 2 and add 1 to find number of characters required for right justify\n",
    "    print(' '*l + Line + ' '*r)  # Use concatenation to print left-justify, right-justify, and string\n",
    "center_this(line1)\n",
    "center_this(line2)\n",
    "center_this(line3)\n",
    "center_this(line4)\n",
    "center_this(line5)"
   ]
  },
  {
   "cell_type": "markdown",
   "metadata": {},
   "source": [
    "5. Write a function to calculate the miles per gallon.\n",
    "Get a miles driven and gallons used from a user and call your function to calculate the miles per gallon. "
   ]
  },
  {
   "cell_type": "code",
   "execution_count": 5,
   "metadata": {},
   "outputs": [
    {
     "name": "stdout",
     "output_type": "stream",
     "text": [
      "How many miles did you drive? 300\n",
      "How many gallons of gasoline did you use? 5.5\n",
      "Your car drove for 300.00 miles. It used 5.50 gallons of gasoline. Therefore, your car's mpg is 54.55.\n"
     ]
    }
   ],
   "source": [
    "mi = float(input(\"How many miles did you drive? \"))\n",
    "gal = float(input(\"How many gallons of gasoline did you use? \"))\n",
    "def mpg(m, g):\n",
    "    ct = m / g\n",
    "    print(f\"Your car drove for {m:.2f} miles. It used {g:.2f} gallons of gasoline. Therefore, your car's mpg is {ct:.2f}.\")\n",
    "    \n",
    "mpg(mi,gal)"
   ]
  }
 ],
 "metadata": {
  "kernelspec": {
   "display_name": "Python 3 (ipykernel)",
   "language": "python",
   "name": "python3"
  },
  "language_info": {
   "codemirror_mode": {
    "name": "ipython",
    "version": 3
   },
   "file_extension": ".py",
   "mimetype": "text/x-python",
   "name": "python",
   "nbconvert_exporter": "python",
   "pygments_lexer": "ipython3",
   "version": "3.9.7"
  }
 },
 "nbformat": 4,
 "nbformat_minor": 4
}
