{
 "cells": [
  {
   "cell_type": "markdown",
   "metadata": {},
   "source": [
    "### Exercise 1\n",
    "Ask for an exam score and store that number. If the number is greater than 100, then print out 'You cannot have an exam score higher than 100'. If the number doesn't exceeed 100 but is greater than or equal to 75, then print out 'You did great on your exam!'. Otherwise if they scored lower than 75, then print out 'You need to study harder'."
   ]
  },
  {
   "cell_type": "code",
   "execution_count": 58,
   "metadata": {},
   "outputs": [
    {
     "name": "stdout",
     "output_type": "stream",
     "text": [
      "Enter your test score here: 102\n",
      "You cannot have an exam score higher than 100\n"
     ]
    }
   ],
   "source": [
    "test_result = int(input(\"Enter your test score here: \"))\n",
    "if test_result > 100:\n",
    "    print(\"You cannot have an exam score higher than 100\")\n",
    "elif test_result <= 100 and test_result >= 75:\n",
    "    print(\"You did great on your exam!\")\n",
    "else:\n",
    "    print(\"You need to study harder\")"
   ]
  },
  {
   "cell_type": "code",
   "execution_count": 2,
   "metadata": {},
   "outputs": [
    {
     "name": "stdout",
     "output_type": "stream",
     "text": [
      "Enter your test score here: 85\n",
      "You did great on your exam!\n"
     ]
    }
   ],
   "source": [
    "test_result = int(input(\"Enter your test score here: \"))\n",
    "if test_result > 100:\n",
    "    print(\"You cannot have an exam score higher than 100\")\n",
    "elif test_result <= 100 and test_result >= 75:\n",
    "    print(\"You did great on your exam!\")\n",
    "else:\n",
    "    print(\"You need to study harder\")"
   ]
  },
  {
   "cell_type": "code",
   "execution_count": 60,
   "metadata": {},
   "outputs": [
    {
     "name": "stdout",
     "output_type": "stream",
     "text": [
      "Enter your test score here: 40\n",
      "You need to study harder\n"
     ]
    }
   ],
   "source": [
    "test_result = int(input(\"Enter your test score here: \"))\n",
    "if test_result > 100:\n",
    "    print(\"You cannot have an exam score higher than 100\")\n",
    "elif test_result <= 100 and test_result >= 75:\n",
    "    print(\"You did great on your exam!\")\n",
    "else:\n",
    "    print(\"You need to study harder\")"
   ]
  },
  {
   "cell_type": "markdown",
   "metadata": {},
   "source": [
    "### Exercise 2\n",
    "Ask a user to enter two numbers and find their average. Then, print out the average and whether each number is below or above average. Determine if a function should be created or not.\n",
    "    "
   ]
  },
  {
   "cell_type": "code",
   "execution_count": 68,
   "metadata": {},
   "outputs": [
    {
     "name": "stdout",
     "output_type": "stream",
     "text": [
      "Let's find the average of two numbers\n",
      "Start with the first number:49\n",
      "Now the second number: 23\n",
      "The average of 49 and 23 is 36.\n",
      "The first number is above the average\n",
      "The second number is below the average\n"
     ]
    }
   ],
   "source": [
    "print(\"Let's find the average of two numbers\")\n",
    "m = int(input(\"Start with the first number:\"))\n",
    "n = int(input(\"Now the second number: \"))\n",
    "Avge = int((m + n) / 2)\n",
    "print(f\"The average of {m} and {n} is {Avge}.\")\n",
    "if Avge < m:\n",
    "    print(\"The first number is above the average\")\n",
    "else:\n",
    "    print(\"The first number is below the average\")\n",
    "if Avge < n:\n",
    "    print(\"The second number is above the average\")\n",
    "else:\n",
    "    print(\"The second number is below the average\")"
   ]
  },
  {
   "cell_type": "code",
   "execution_count": 70,
   "metadata": {},
   "outputs": [
    {
     "name": "stdout",
     "output_type": "stream",
     "text": [
      "The first number is 33\n",
      "The second number is 5\n",
      "The average of 33 and 5 is 19.\n",
      "The first number is above the average\n",
      "The second number is below the average\n"
     ]
    }
   ],
   "source": [
    "def find_av(x, y):\n",
    "    print(\"The first number is \" + str(x))\n",
    "    print(\"The second number is \" + str(y))\n",
    "    avr = int((x + y) / 2)\n",
    "    print(f\"The average of {x} and {y} is {avr}.\")\n",
    "    if avr < x:\n",
    "        print(\"The first number is above the average\")\n",
    "    else:\n",
    "        print(\"The first number is below the average\")\n",
    "    if avr < y:\n",
    "        print(\"The second number is above the average\")\n",
    "    else:\n",
    "        print(\"The second number is below the average\")\n",
    "\n",
    "find_av(33, 5)\n",
    "    "
   ]
  },
  {
   "cell_type": "code",
   "execution_count": null,
   "metadata": {},
   "outputs": [],
   "source": []
  },
  {
   "cell_type": "markdown",
   "metadata": {},
   "source": [
    "### Exercise 3\n",
    "Write a function to convert a test score to a grade where  \n",
    " - 90 - 100: A\n",
    " - 80 - 89:  B\n",
    " - 70 - 79:  C\n",
    " - 60 - 69:  D\n",
    " - < 60   :  F\n",
    " \n",
    "If a score is not between 0 and 100 then print out an error message. In the program, ask the user for a score and then call your function. "
   ]
  },
  {
   "cell_type": "code",
   "execution_count": 5,
   "metadata": {},
   "outputs": [
    {
     "name": "stdout",
     "output_type": "stream",
     "text": [
      "What's your score? 63\n",
      "Your grade is D\n"
     ]
    },
    {
     "data": {
      "text/plain": [
       "63"
      ]
     },
     "execution_count": 5,
     "metadata": {},
     "output_type": "execute_result"
    }
   ],
   "source": [
    "def scor_convert(r):\n",
    "    if r >= 90 and r <= 100:\n",
    "        print(\"Your grade is A\")\n",
    "    elif r >= 80 and r <= 89:\n",
    "        print(\"Your grade is B\")\n",
    "    elif r >= 70 and r <= 79:\n",
    "        print(\"Your grade is C\")\n",
    "    elif r >= 60 and r <= 69:\n",
    "        print(\"Your grade is D\")\n",
    "    elif r < 60 and r >= 0:\n",
    "        print(\"Your grade is F\")\n",
    "    else:\n",
    "        print(\"Your score is nowhere near our grading system range\")\n",
    "    return r\n",
    "ex_s = int(input(\"What's your score? \"))\n",
    "scor_convert(ex_s)"
   ]
  },
  {
   "cell_type": "code",
   "execution_count": 6,
   "metadata": {},
   "outputs": [
    {
     "name": "stdout",
     "output_type": "stream",
     "text": [
      "What's your score? 82\n",
      "Your grade is B\n"
     ]
    },
    {
     "data": {
      "text/plain": [
       "82"
      ]
     },
     "execution_count": 6,
     "metadata": {},
     "output_type": "execute_result"
    }
   ],
   "source": [
    "def scor_convert(r):\n",
    "    if r >= 90 and r <= 100:\n",
    "        print(\"Your grade is A\")\n",
    "    elif r >= 80 and r <= 89:\n",
    "        print(\"Your grade is B\")\n",
    "    elif r >= 70 and r <= 79:\n",
    "        print(\"Your grade is C\")\n",
    "    elif r >= 60 and r <= 69:\n",
    "        print(\"Your grade is D\")\n",
    "    elif r < 60 and r >= 0:\n",
    "        print(\"Your grade is F\")\n",
    "    else:\n",
    "        print(\"Your score is nowhere near our grading system range\")\n",
    "    return r\n",
    "ex_s = int(input(\"What's your score? \"))\n",
    "scor_convert(ex_s)"
   ]
  },
  {
   "cell_type": "code",
   "execution_count": 7,
   "metadata": {},
   "outputs": [
    {
     "name": "stdout",
     "output_type": "stream",
     "text": [
      "What's your score? 105\n",
      "Your score is nowhere near our grading system range\n"
     ]
    },
    {
     "data": {
      "text/plain": [
       "105"
      ]
     },
     "execution_count": 7,
     "metadata": {},
     "output_type": "execute_result"
    }
   ],
   "source": [
    "def scor_convert(r):\n",
    "    if r >= 90 and r <= 100:\n",
    "        print(\"Your grade is A\")\n",
    "    elif r >= 80 and r <= 89:\n",
    "        print(\"Your grade is B\")\n",
    "    elif r >= 70 and r <= 79:\n",
    "        print(\"Your grade is C\")\n",
    "    elif r >= 60 and r <= 69:\n",
    "        print(\"Your grade is D\")\n",
    "    elif r < 60 and r >= 0:\n",
    "        print(\"Your grade is F\")\n",
    "    else:\n",
    "        print(\"Your score is nowhere near our grading system range\")\n",
    "    return r\n",
    "ex_s = int(input(\"What's your score? \"))\n",
    "scor_convert(ex_s)"
   ]
  },
  {
   "cell_type": "markdown",
   "metadata": {},
   "source": [
    "### Exercise 4\n",
    "Convert following decimal number to a binary number by hand:\n",
    "\n",
    "    61\n",
    "    15\n",
    "    71\n",
    "    "
   ]
  },
  {
   "cell_type": "code",
   "execution_count": 9,
   "metadata": {},
   "outputs": [
    {
     "name": "stdout",
     "output_type": "stream",
     "text": [
      "30 1\n",
      "15 0\n",
      "7  1\n",
      "3  1\n",
      "1  1\n",
      "0  1\n",
      "The binary number for 61 is 111101\n"
     ]
    }
   ],
   "source": [
    "print(61 // 2, 61 % 2)\n",
    "print(30 // 2, 30 % 2)\n",
    "print(15 // 2, 15 % 2, sep='  ')\n",
    "print(7 // 2,  7 % 2, sep='  ')\n",
    "print(3 // 2,  3 % 2, sep='  ')\n",
    "print(1 // 2,  1 % 2, sep='  ')\n",
    "print(f\"The binary number for {61} is {111101}\")"
   ]
  },
  {
   "cell_type": "code",
   "execution_count": 30,
   "metadata": {},
   "outputs": [
    {
     "name": "stdout",
     "output_type": "stream",
     "text": [
      "7 1\n",
      "3 1\n",
      "1 1\n",
      "0 1\n",
      "The binary number for 15 is 1111\n"
     ]
    }
   ],
   "source": [
    "print(15 // 2, 15 % 2)\n",
    "print(7 // 2, 7 % 2)\n",
    "print(3 // 2, 3 % 2)\n",
    "print(1 // 2, 1 % 2)\n",
    "print(f\"The binary number for {15} is {1111}\")"
   ]
  },
  {
   "cell_type": "code",
   "execution_count": 38,
   "metadata": {},
   "outputs": [
    {
     "name": "stdout",
     "output_type": "stream",
     "text": [
      "35 1\n",
      "17 1\n",
      "8  1\n",
      "4  0\n",
      "2  0\n",
      "1  0\n",
      "0  1\n",
      "The binary number for 71 is 1000111\n"
     ]
    }
   ],
   "source": [
    "print(71 // 2, 71 % 2)\n",
    "print(35 // 2, 35 % 2)\n",
    "print(17 // 2, 17 % 2, sep='  ')\n",
    "print(8 // 2, 8 % 2, sep='  ')\n",
    "print(4 // 2, 4 % 2, sep='  ')\n",
    "print(2 // 2, 2 % 2, sep='  ')\n",
    "print(1 // 2, 1 % 2, sep='  ')\n",
    "print(f\"The binary number for {71} is {1000111}\")"
   ]
  },
  {
   "cell_type": "markdown",
   "metadata": {},
   "source": [
    "### Exercise 5\n",
    "When a = 61 and b = 15, what is the result of following bitwise opertion? Use inline comments to show your result in a binary number. Find your answer by hand.\n",
    "\n",
    "    a & b\n",
    "    a | b\n",
    "    a ^ b\n",
    "    a >> 2\n",
    "    "
   ]
  },
  {
   "cell_type": "code",
   "execution_count": 44,
   "metadata": {},
   "outputs": [],
   "source": [
    "a, b = 61, 15"
   ]
  },
  {
   "cell_type": "code",
   "execution_count": 47,
   "metadata": {},
   "outputs": [
    {
     "name": "stdout",
     "output_type": "stream",
     "text": [
      "13\n",
      "13\n"
     ]
    }
   ],
   "source": [
    "a   # 0011 1101\n",
    "b   # 0000 1111\n",
    "a&b # 0000 1101\n",
    "print((1 * 2**3) + (1 * 2**2) + 0 + (1 * 2**0))\n",
    "print(a&b)"
   ]
  },
  {
   "cell_type": "code",
   "execution_count": 49,
   "metadata": {},
   "outputs": [
    {
     "name": "stdout",
     "output_type": "stream",
     "text": [
      "63\n",
      "63\n"
     ]
    }
   ],
   "source": [
    "a    # 0011 1101\n",
    "b    # 0000 1111\n",
    "a|b  # 0011 1111\n",
    "print((1 * 2**5) + (1 * 2**4) + (1 * 2**3) + (1 * 2**2) + (1 * 2**1) + (1 * 2**0))\n",
    "print(a|b)"
   ]
  },
  {
   "cell_type": "code",
   "execution_count": 51,
   "metadata": {},
   "outputs": [
    {
     "name": "stdout",
     "output_type": "stream",
     "text": [
      "50\n",
      "50\n"
     ]
    }
   ],
   "source": [
    "a   # 0011 1101\n",
    "b   # 0000 1111\n",
    "a^b # 0011 0010\n",
    "print((1 * 2**5) + (1 * 2**4) + 0 + 0 + (1 * 2**1) + 0)\n",
    "print(a^b)"
   ]
  },
  {
   "cell_type": "code",
   "execution_count": 53,
   "metadata": {},
   "outputs": [
    {
     "name": "stdout",
     "output_type": "stream",
     "text": [
      "15\n",
      "15\n"
     ]
    }
   ],
   "source": [
    "a     # 0011 1101\n",
    "b     # 0000 1111\n",
    "a>>2  # 0000 1111\n",
    "print((1 * 2**3) + (1 * 2**2) + (1 * 2**1) + (1 * 2**0))\n",
    "print(a>>2)"
   ]
  }
 ],
 "metadata": {
  "kernelspec": {
   "display_name": "Python 3 (ipykernel)",
   "language": "python",
   "name": "python3"
  },
  "language_info": {
   "codemirror_mode": {
    "name": "ipython",
    "version": 3
   },
   "file_extension": ".py",
   "mimetype": "text/x-python",
   "name": "python",
   "nbconvert_exporter": "python",
   "pygments_lexer": "ipython3",
   "version": "3.9.7"
  }
 },
 "nbformat": 4,
 "nbformat_minor": 4
}
