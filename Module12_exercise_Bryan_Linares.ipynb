{
 "cells": [
  {
   "cell_type": "markdown",
   "metadata": {},
   "source": [
    "### Exercise 1. \n",
    "Create a dictionary named pairs with key value pairs of:\n",
    "    - 'hello' and 'fire', \n",
    "    - 3 and 'seven', \n",
    "    - 'strong' and 45. \n",
    "\n",
    "Then, print out the dictionary."
   ]
  },
  {
   "cell_type": "code",
   "execution_count": 1,
   "metadata": {},
   "outputs": [
    {
     "name": "stdout",
     "output_type": "stream",
     "text": [
      "{'hello': 'fire', 3: 'seven', 'strong': 45}\n"
     ]
    }
   ],
   "source": [
    "pairs = {\n",
    "    \"hello\": \"fire\",\n",
    "    3 : \"seven\",\n",
    "    \"strong\": 45\n",
    "}\n",
    "print(pairs)"
   ]
  },
  {
   "cell_type": "markdown",
   "metadata": {},
   "source": [
    "### Exercise 2. \n",
    "Add 'welcome' and 56 pair into <b><i>pairs</i></b> dictionary from exercise 1. Then, print out the dictionary. "
   ]
  },
  {
   "cell_type": "code",
   "execution_count": 2,
   "metadata": {},
   "outputs": [
    {
     "name": "stdout",
     "output_type": "stream",
     "text": [
      "{'hello': 'fire', 3: 'seven', 'strong': 45, 'welcome': 56}\n"
     ]
    }
   ],
   "source": [
    "pairs[\"welcome\"] = 56\n",
    "print(pairs)"
   ]
  },
  {
   "cell_type": "markdown",
   "metadata": {},
   "source": [
    "### Exercise 3. \n",
    "Delete one item from <b><i>pairs</i></b> dictionary. Then, print deleted item and the dictionary."
   ]
  },
  {
   "cell_type": "code",
   "execution_count": 3,
   "metadata": {},
   "outputs": [
    {
     "name": "stdout",
     "output_type": "stream",
     "text": [
      "('strong', 45)\n",
      "{'hello': 'fire', 3: 'seven', 'welcome': 56}\n"
     ]
    }
   ],
   "source": [
    "del_item = list(pairs.items())[2]\n",
    "pairs.pop('strong')\n",
    "print(del_item)\n",
    "print(pairs)"
   ]
  },
  {
   "cell_type": "markdown",
   "metadata": {},
   "source": [
    "### Exercise 4. \n",
    "Print the value of an item where key is 3 in <b><i>pairs</i></b> dicitonary"
   ]
  },
  {
   "cell_type": "code",
   "execution_count": 4,
   "metadata": {},
   "outputs": [
    {
     "name": "stdout",
     "output_type": "stream",
     "text": [
      "seven\n"
     ]
    }
   ],
   "source": [
    "print(pairs[3])"
   ]
  },
  {
   "cell_type": "markdown",
   "metadata": {},
   "source": [
    "### Exercise 5. \n",
    "Try to find out if the key called 'hello' exist in <b><i>pairs</i></b> dictionary. Print 'key is found' message if the key exists otherwise print 'key is not there'."
   ]
  },
  {
   "cell_type": "code",
   "execution_count": 5,
   "metadata": {},
   "outputs": [
    {
     "name": "stdout",
     "output_type": "stream",
     "text": [
      "key is found\n"
     ]
    }
   ],
   "source": [
    "if \"hello\" in pairs:\n",
    "    print(\"key is found\")\n",
    "else:\n",
    "    print(\"key is not there\")"
   ]
  },
  {
   "cell_type": "markdown",
   "metadata": {},
   "source": [
    "### Exercise 6. \n",
    "Create a Test Scores program that gets the name of students and test score from a user. Then, generate a list of students who passed and a list of students who failed where passing test score is 60 or above. "
   ]
  },
  {
   "cell_type": "code",
   "execution_count": 6,
   "metadata": {},
   "outputs": [
    {
     "name": "stdout",
     "output_type": "stream",
     "text": [
      "Enter the student's name: Amy\n",
      "Student's test score: 66\n",
      "Enter the student's name: Rolf\n",
      "Student's test score: 86\n",
      "Enter the student's name: Reny\n",
      "Student's test score: 34\n",
      "Enter the student's name: Wilbur\n",
      "Student's test score: 72\n",
      "Enter the student's name: Emmanuel\n",
      "Student's test score: 81\n",
      "Enter the student's name: David\n",
      "Student's test score: 99\n",
      "Enter the student's name: Carl\n",
      "Student's test score: 59\n",
      "Enter the student's name: Aura\n",
      "Student's test score: 62.5\n",
      "Enter the student's name: \n",
      "Passing students\n",
      "1. Amy\n",
      "2. Rolf\n",
      "3. Wilbur\n",
      "4. Emmanuel\n",
      "5. David\n",
      "6. Aura\n",
      "Failing students\n",
      "1. Reny\n",
      "2. Carl\n"
     ]
    }
   ],
   "source": [
    "student_name = True\n",
    "list_st = {}\n",
    "lpass = []\n",
    "lfail = []\n",
    "while student_name:\n",
    "    student_name = input(\"Enter the student's name: \")\n",
    "    if student_name == \"\":\n",
    "        student_name = False\n",
    "        continue\n",
    "    test_score = float(input(\"Student's test score: \"))\n",
    "    list_st[student_name] = test_score\n",
    "    if test_score >= 60 and test_score <= 100:\n",
    "        lpass.append(student_name)\n",
    "    elif test_score >= 0:\n",
    "        lfail.append(student_name)\n",
    "    else:\n",
    "        list_st.pop(student_name)\n",
    "\n",
    "print(\"Passing students\")\n",
    "for t in lpass:\n",
    "    print(f\"{lpass.index(t)+1}. {t}\")\n",
    "    \n",
    "print(\"Failing students\")\n",
    "for n in lfail:\n",
    "    print(f\"{lfail.index(n)+1}. {n}\")\n",
    "    "
   ]
  },
  {
   "cell_type": "code",
   "execution_count": null,
   "metadata": {},
   "outputs": [],
   "source": [
    "\n",
    "    \n",
    "    "
   ]
  },
  {
   "cell_type": "markdown",
   "metadata": {},
   "source": [
    "### Exercise 7. \n",
    "\n",
    "Create a Word Counter program that gets a string of text from a user and then counts the number of times a word occrs in the string. \n",
    "\n",
    "The output should look something like this:\n",
    "\n",
    "    The Word Counter Program\n",
    "    \n",
    "    Enter a text string: \n",
    "    Humpty Dumpty sat on a wall, Humpty Dumpty had a great fall. All the king’s horses and all the king’s men couldn’t put Humpty together again.\n",
    "\n",
    "    a : 2\n",
    "    again : 1\n",
    "    all : 2\n",
    "    and : 1\n",
    "    couldn’t : 1\n",
    "    dumpty : 2\n",
    "    fall : 1\n",
    "    great : 1\n",
    "    had : 1\n",
    "    horses : 1\n",
    "    humpty : 3\n",
    "    king’s : 2\n",
    "    men : 1\n",
    "    on : 1\n",
    "    put : 1\n",
    "    sat : 1\n",
    "    the : 2\n",
    "    together : 1\n",
    "    wall : 1\n",
    "\n",
    "    There were total 26 words in the text string   "
   ]
  },
  {
   "cell_type": "code",
   "execution_count": 7,
   "metadata": {},
   "outputs": [
    {
     "name": "stdout",
     "output_type": "stream",
     "text": [
      "The Word Counter Program\n",
      "\n",
      "Enter a string: \n",
      "Humpty Dumpty sat on a wall, Humpty Dumpty had a great fall. All the king’s horses and all the king’s men couldn’t put Humpty together again.\n",
      "\n",
      "a : 2\n",
      "again : 1\n",
      "all : 2\n",
      "and : 1\n",
      "couldn’t : 1\n",
      "dumpty : 2\n",
      "fall : 1\n",
      "great : 1\n",
      "had : 1\n",
      "horses : 1\n",
      "humpty : 3\n",
      "king’s : 2\n",
      "men : 1\n",
      "on : 1\n",
      "put : 1\n",
      "sat : 1\n",
      "the : 2\n",
      "together : 1\n",
      "wall : 1\n",
      "\n",
      "There were total 26 words in the text string\n"
     ]
    }
   ],
   "source": [
    "print(\"the word counter program\".title())\n",
    "print()\n",
    "txt = input(\"Enter a string: \\n\")\n",
    "a = txt.lower()\n",
    "u = a.split()\n",
    "u.sort()\n",
    "print()\n",
    "d = {}\n",
    "word_count = 0\n",
    "for word in u:\n",
    "    e = list(word)\n",
    "    if \",\" in e or \".\" in e or \"!\" in e or \"?\" in e:\n",
    "        e.pop()    \n",
    "    word = \"\".join(e)\n",
    "    if word in d:\n",
    "        d[word] += 1\n",
    "    else:\n",
    "        d[word] = 1\n",
    "\n",
    "\n",
    "for key, value in d.items():\n",
    "    print(f\"{key} : {value}\")\n",
    "\n",
    "print()\n",
    "        \n",
    "for x in d.values():\n",
    "    word_count += x\n",
    "\n",
    "print(f\"There were total {word_count} words in the text string\")\n",
    "    \n",
    "        "
   ]
  },
  {
   "cell_type": "code",
   "execution_count": null,
   "metadata": {},
   "outputs": [],
   "source": [
    "\n"
   ]
  }
 ],
 "metadata": {
  "kernelspec": {
   "display_name": "Python 3 (ipykernel)",
   "language": "python",
   "name": "python3"
  },
  "language_info": {
   "codemirror_mode": {
    "name": "ipython",
    "version": 3
   },
   "file_extension": ".py",
   "mimetype": "text/x-python",
   "name": "python",
   "nbconvert_exporter": "python",
   "pygments_lexer": "ipython3",
   "version": "3.9.7"
  }
 },
 "nbformat": 4,
 "nbformat_minor": 4
}
