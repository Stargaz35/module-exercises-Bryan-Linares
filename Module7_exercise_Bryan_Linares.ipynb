{
 "cells": [
  {
   "cell_type": "markdown",
   "metadata": {},
   "source": [
    "### Exercise 1\n",
    "Ask a user to enter a number. If the number is positive, print <b>Positive number</b>. Otherwise, do not print any message. Finally, print 'goodbye' message at the end."
   ]
  },
  {
   "cell_type": "code",
   "execution_count": 10,
   "metadata": {},
   "outputs": [
    {
     "name": "stdout",
     "output_type": "stream",
     "text": [
      "Please enter a number: \n",
      "3\n",
      "Positive number\n",
      "Goodbye\n"
     ]
    }
   ],
   "source": [
    "print(\"Please enter a number: \")\n",
    "rit = int(input())\n",
    "if rit > 0:\n",
    "    print(\"Positive number\")\n",
    "print(\"Goodbye\")"
   ]
  },
  {
   "cell_type": "code",
   "execution_count": 10,
   "metadata": {},
   "outputs": [
    {
     "name": "stdout",
     "output_type": "stream",
     "text": [
      "Please enter a number: \n",
      "-5\n",
      "Goodbye\n"
     ]
    }
   ],
   "source": [
    "print(\"Please enter a number: \")\n",
    "rit = int(input())\n",
    "if rit > 0:\n",
    "    print(\"Positive number\")\n",
    "print(\"Goodbye\")"
   ]
  },
  {
   "cell_type": "markdown",
   "metadata": {},
   "source": [
    "### Exercise 2\n",
    "Ask for a code and store that answer. \n",
    "If the answer is grey then print out if you found secret code.\n",
    "Otherwise print out the code is not the secret code."
   ]
  },
  {
   "cell_type": "code",
   "execution_count": 12,
   "metadata": {},
   "outputs": [
    {
     "name": "stdout",
     "output_type": "stream",
     "text": [
      "Write your code here => grey\n",
      "You found the secret code!\n"
     ]
    }
   ],
   "source": [
    "sec = input(\"Write your code here => \")\n",
    "if sec == \"grey\":\n",
    "    print(\"You found the secret code!\")\n",
    "else:\n",
    "    print(\"That's not the secret code. Goodbye\")"
   ]
  },
  {
   "cell_type": "code",
   "execution_count": 11,
   "metadata": {},
   "outputs": [
    {
     "name": "stdout",
     "output_type": "stream",
     "text": [
      "Write your code here => red\n",
      "That's not the secret code. Goodbye\n"
     ]
    }
   ],
   "source": [
    "sec = input(\"Write your code here => \")\n",
    "if sec == \"grey\":\n",
    "    print(\"You found the secret code!\")\n",
    "else:\n",
    "    print(\"That's not the secret code. Goodbye\")"
   ]
  },
  {
   "cell_type": "markdown",
   "metadata": {},
   "source": [
    "### Exercise 3\n",
    "\n",
    "Ask a user to enter a phrase. If the word contains a number, display the \"Number found\" message. Otherwise, show the \"Number not found\" message. "
   ]
  },
  {
   "cell_type": "code",
   "execution_count": 72,
   "metadata": {},
   "outputs": [
    {
     "name": "stdout",
     "output_type": "stream",
     "text": [
      "Pass down a phrase: nice2cu\n",
      "Number found\n"
     ]
    }
   ],
   "source": [
    "phr = input('Pass down a phrase: ')\n",
    "if phr.isalnum() and not phr.isalpha():\n",
    "    print(\"Number found\")\n",
    "else:\n",
    "    print(\"Number not found\")"
   ]
  },
  {
   "cell_type": "code",
   "execution_count": 12,
   "metadata": {},
   "outputs": [
    {
     "name": "stdout",
     "output_type": "stream",
     "text": [
      "Pass down a phrase: You reap what you sow\n",
      "Number not found\n"
     ]
    }
   ],
   "source": [
    "phr = input('Pass down a phrase: ')\n",
    "if phr.isalnum() and not phr.isalpha():\n",
    "    print(\"Number found\")\n",
    "else:\n",
    "    print(\"Number not found\")"
   ]
  },
  {
   "cell_type": "markdown",
   "metadata": {},
   "source": [
    "### Exercise 4\n",
    "\n",
    "Ask a user to enter a number. Then, only if the number is divisible by 2 and 3, show the result of the number divided by two and three in a formated string. The output should look something like this:\n",
    "        \n",
    "    Enter a number: 2\n",
    "    Bye    \n",
    "    \n",
    "    Enter a number: 60\n",
    "    60 / 2 = 30.0\n",
    "    60 / 3 = 20.0\n",
    "    Bye\n",
    "    \n",
    "    Enter a number: 3\n",
    "    Bye\n",
    "    \n",
    "    Enter a number: 10\n",
    "    Bye    "
   ]
  },
  {
   "cell_type": "code",
   "execution_count": 4,
   "metadata": {},
   "outputs": [
    {
     "name": "stdout",
     "output_type": "stream",
     "text": [
      "Enter a number: 42\n",
      "42 / 2 = 21.0\n",
      "42 / 3 = 14.0\n",
      "Bye\n"
     ]
    }
   ],
   "source": [
    "t = int(input(\"Enter a number: \"))\n",
    "if t % 2 == 0 and t % 3 == 0:\n",
    "    print(f\"{t} / 2 = {t/2:.1f}\")\n",
    "    print(f\"{t} / 3 = {t/3:.1f}\")\n",
    "    print(\"Bye\")\n",
    "else:\n",
    "    print(\"Bye\")"
   ]
  },
  {
   "cell_type": "code",
   "execution_count": 13,
   "metadata": {},
   "outputs": [
    {
     "name": "stdout",
     "output_type": "stream",
     "text": [
      "Enter a number: 22\n",
      "Bye\n"
     ]
    }
   ],
   "source": [
    "t = int(input(\"Enter a number: \"))\n",
    "if t % 2 == 0 and t % 3 == 0:\n",
    "    print(f\"{t} / 2 = {t/2:.1f}\")\n",
    "    print(f\"{t} / 3 = {t/3:.1f}\")\n",
    "    print(\"Bye\")\n",
    "else:\n",
    "    print(\"Bye\")"
   ]
  },
  {
   "cell_type": "code",
   "execution_count": 9,
   "metadata": {},
   "outputs": [
    {
     "name": "stdout",
     "output_type": "stream",
     "text": [
      "Enter a number: 90\n",
      "90 / 2 = 45.0\n",
      "90 / 3 = 30.0\n",
      "Bye\n",
      "\n",
      "Enter a number: 15\n",
      "Bye\n",
      "\n"
     ]
    }
   ],
   "source": [
    "def divid(x):\n",
    "    if x % 2 == 0 and x % 3 == 0:\n",
    "        print(f\"{x} / 2 = {x/2:.1f}\")\n",
    "        print(f\"{x} / 3 = {x/3:.1f}\")\n",
    "        print(\"Bye\\n\")\n",
    "    else:\n",
    "        print(\"Bye\\n\")\n",
    "r = int(input(\"Enter a number: \"))\n",
    "divid(r)\n",
    "w = int(input(\"Enter a number: \"))\n",
    "divid(w)"
   ]
  },
  {
   "cell_type": "markdown",
   "metadata": {},
   "source": [
    "### Exercise 5\n",
    "Ask a user to enter a number. Determine if the number is zero, positive or negative. Use only <b>if</b> and <b>else</b> statements. \n",
    "    "
   ]
  },
  {
   "cell_type": "code",
   "execution_count": 16,
   "metadata": {},
   "outputs": [
    {
     "name": "stdout",
     "output_type": "stream",
     "text": [
      "Give me a number: 6\n",
      "The number you entered is positive.\n"
     ]
    }
   ],
   "source": [
    "num = int(input(\"Give me a number: \"))\n",
    "if num > 0 or num < 0:\n",
    "    if num >= 1:\n",
    "        print(\"The number you entered is positive.\")\n",
    "    else:\n",
    "        print(\"The number you entered is negative.\")\n",
    "else:\n",
    "    print(\"You entered zero.\")"
   ]
  },
  {
   "cell_type": "code",
   "execution_count": 14,
   "metadata": {},
   "outputs": [
    {
     "name": "stdout",
     "output_type": "stream",
     "text": [
      "Give me a number: -2\n",
      "The number you entered is negative.\n"
     ]
    }
   ],
   "source": [
    "num = int(input(\"Give me a number: \"))\n",
    "if num > 0 or num < 0:\n",
    "    if num >= 1:\n",
    "        print(\"The number you entered is positive.\")\n",
    "    else:\n",
    "        print(\"The number you entered is negative.\")\n",
    "else:\n",
    "    print(\"You entered zero.\")"
   ]
  },
  {
   "cell_type": "code",
   "execution_count": 15,
   "metadata": {},
   "outputs": [
    {
     "name": "stdout",
     "output_type": "stream",
     "text": [
      "Give me a number: 0\n",
      "You entered zero.\n"
     ]
    }
   ],
   "source": [
    "num = int(input(\"Give me a number: \"))\n",
    "if num > 0 or num < 0:\n",
    "    if num >= 1:\n",
    "        print(\"The number you entered is positive.\")\n",
    "    else:\n",
    "        print(\"The number you entered is negative.\")\n",
    "else:\n",
    "    print(\"You entered zero.\")"
   ]
  }
 ],
 "metadata": {
  "kernelspec": {
   "display_name": "Python 3 (ipykernel)",
   "language": "python",
   "name": "python3"
  },
  "language_info": {
   "codemirror_mode": {
    "name": "ipython",
    "version": 3
   },
   "file_extension": ".py",
   "mimetype": "text/x-python",
   "name": "python",
   "nbconvert_exporter": "python",
   "pygments_lexer": "ipython3",
   "version": "3.9.7"
  }
 },
 "nbformat": 4,
 "nbformat_minor": 4
}
